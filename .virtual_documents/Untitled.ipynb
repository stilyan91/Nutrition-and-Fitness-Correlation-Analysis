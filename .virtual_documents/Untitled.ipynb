%matplotlib inline





# First step is to import libraries 
import pandas as pd 
import numpy as np 
import matplotlib.pyplot as plt 
import seaborn as sns 



#After that loading the dataset 
daily_performance_dataset = pd.read_csv('data/Daily_performance_data.csv')


# Then I will familiarizate with dataset also I am going to perform data tidying and data cleaning if it is necessary.
# Getting general information about the dataset
daily_performance_dataset.info()


# To check how many rows and columns the dataset has, i will use this command:
daily_performance_dataset.shape 


# as we see it has 347 rows and 45 columns. 
# Now I want to see what are the names of the columns
daily_performance_dataset.columns


# I want to see how dataset looks like but not whole, only first 2 rows. I make this to get some basic image of the dataset.
daily_performance_dataset.head(2)


# Check if the dataset has some null or missing values
daily_performance_dataset.isna().sum()


# as we see there is a lot of missing values. I can't simple drop null values, 
# because it is a lot and i will lost a lot of information with this action.
# Now i want to check type of the columns. That will help me to take decision how to fill this missing information 
daily_performance_dataset.dtypes


# plot a null values in heatmap to see where are they. 
sns.heatmap(daily_performance_dataset.isnull(), cbar=False)
plt.title("Heatmap of Missing Values")
plt.show()



