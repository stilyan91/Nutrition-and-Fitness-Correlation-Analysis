{
 "cells": [
  {
   "cell_type": "code",
   "execution_count": 2,
   "id": "eab08a3b-fdd8-436d-a356-31b7a5503f1e",
   "metadata": {},
   "outputs": [],
   "source": [
    "%matplotlib inline"
   ]
  },
  {
   "cell_type": "markdown",
   "id": "79906e2f-321c-4d28-863a-a013fc8dbe31",
   "metadata": {},
   "source": [
    "# Nutrition and Fitness Correlation Analysis"
   ]
  },
  {
   "cell_type": "code",
   "execution_count": 11,
   "id": "497ff576-10f2-46c8-8ed6-cce439ee56f7",
   "metadata": {},
   "outputs": [],
   "source": [
    "# First step is to import libraries \n",
    "import pandas as pd \n",
    "import numpy as np \n",
    "import matplotlib.pyplot as plt \n",
    "import seaborn as sns \n"
   ]
  },
  {
   "cell_type": "code",
   "execution_count": 24,
   "id": "9428b887-d116-4ca2-ba80-f0caa752e221",
   "metadata": {},
   "outputs": [],
   "source": [
    "#After that loading the dataset \n",
    "daily_performance_dataset = pd.read_csv('data/Daily_performance_data.csv')"
   ]
  },
  {
   "cell_type": "code",
   "execution_count": 26,
   "id": "74ba81ea-5b4e-45fe-a457-bbd4a5be1412",
   "metadata": {},
   "outputs": [
    {
     "name": "stdout",
     "output_type": "stream",
     "text": [
      "<class 'pandas.core.frame.DataFrame'>\n",
      "RangeIndex: 347 entries, 0 to 346\n",
      "Data columns (total 45 columns):\n",
      " #   Column                Non-Null Count  Dtype  \n",
      "---  ------                --------------  -----  \n",
      " 0   Date                  341 non-null    object \n",
      " 1   Weight                332 non-null    float64\n",
      " 2   scriptedIntensity     341 non-null    object \n",
      " 3   RPE                   292 non-null    float64\n",
      " 4   Strain                326 non-null    float64\n",
      " 5   maxHR                 318 non-null    float64\n",
      " 6   averageHR             318 non-null    float64\n",
      " 7   kCal_Out              307 non-null    float64\n",
      " 8   kCal_In               248 non-null    float64\n",
      " 9   Protein               246 non-null    float64\n",
      " 10  Carbs                 247 non-null    float64\n",
      " 11  Fats                  245 non-null    float64\n",
      " 12  saturatedFat          246 non-null    float64\n",
      " 13  Cholesterol           246 non-null    float64\n",
      " 14  Sodium                245 non-null    float64\n",
      " 15  Potassium             243 non-null    float64\n",
      " 16  Sugar                 243 non-null    float64\n",
      " 17  Vitamin_A             243 non-null    float64\n",
      " 18  Vitamin_C             242 non-null    float64\n",
      " 19  Calcium               240 non-null    float64\n",
      " 20  Iron                  239 non-null    float64\n",
      " 21  Creatine              341 non-null    object \n",
      " 22  Fish Oil              341 non-null    object \n",
      " 23  Vitamin_D             341 non-null    object \n",
      " 24  135ozWater            341 non-null    object \n",
      " 25  totalSleep            282 non-null    float64\n",
      " 26  sleepOnset            281 non-null    object \n",
      " 27  sleepEnd              281 non-null    object \n",
      " 28  In_bed_duration       281 non-null    float64\n",
      " 29  Light_sleep_duration  281 non-null    float64\n",
      " 30  Deep_SWS_duration     281 non-null    float64\n",
      " 31  REM_Duration          281 non-null    float64\n",
      " 32  awakeDuration         279 non-null    float64\n",
      " 33  HRV                   293 non-null    float64\n",
      " 34  restingHR             295 non-null    float64\n",
      " 35  respitoryRate         299 non-null    object \n",
      " 36  iceTub                347 non-null    bool   \n",
      " 37  redLight              347 non-null    bool   \n",
      " 38  Speed                 246 non-null    float64\n",
      " 39  Strength              246 non-null    float64\n",
      " 40  Mental                340 non-null    float64\n",
      " 41  Soreness              340 non-null    float64\n",
      " 42  Overall               340 non-null    float64\n",
      " 43  Notes                 18 non-null     object \n",
      " 44  Alcohol               347 non-null    bool   \n",
      "dtypes: bool(3), float64(32), object(10)\n",
      "memory usage: 115.0+ KB\n"
     ]
    }
   ],
   "source": [
    "# Then I will familiarizate with dataset also I am going to perform data tidying and data cleaning if it is necessary.\n",
    "# Getting general information about the dataset\n",
    "daily_performance_dataset.info()"
   ]
  },
  {
   "cell_type": "code",
   "execution_count": 23,
   "id": "dac818d0-2553-48db-b035-6955dc9d132e",
   "metadata": {},
   "outputs": [
    {
     "data": {
      "text/plain": [
       "(347, 45)"
      ]
     },
     "execution_count": 23,
     "metadata": {},
     "output_type": "execute_result"
    }
   ],
   "source": [
    "# To check how many rows and columns the dataset has, i will use this command:\n",
    "daily_performance_dataset.shape "
   ]
  },
  {
   "cell_type": "code",
   "execution_count": 14,
   "id": "8cf48246-e8ea-48cc-9847-e9023751bf5c",
   "metadata": {},
   "outputs": [
    {
     "data": {
      "text/plain": [
       "Index(['Date', 'Weight', 'scriptedIntensity', 'RPE', 'Strain', 'maxHR',\n",
       "       'averageHR', 'kCal_Out', 'kCal_In', 'Protein', 'Carbs', 'Fats',\n",
       "       'saturatedFat', 'Cholesterol', 'Sodium', 'Potassium', 'Sugar',\n",
       "       'Vitamin_A', 'Vitamin_C', 'Calcium', 'Iron', 'Creatine', 'Fish Oil',\n",
       "       'Vitamin_D', '135ozWater', 'totalSleep', 'sleepOnset', 'sleepEnd',\n",
       "       'In_bed_duration', 'Light_sleep_duration', 'Deep_SWS_duration',\n",
       "       'REM_Duration', 'awakeDuration', 'HRV', 'restingHR', 'respitoryRate',\n",
       "       'iceTub', 'redLight', 'Speed', 'Strength', 'Mental', 'Soreness',\n",
       "       'Overall', 'Notes', 'Alcohol'],\n",
       "      dtype='object')"
      ]
     },
     "execution_count": 14,
     "metadata": {},
     "output_type": "execute_result"
    }
   ],
   "source": [
    "# as we see it has 347 rows and 45 columns. \n",
    "# Now I want to see what are the names of the columns\n",
    "daily_performance_dataset.columns"
   ]
  },
  {
   "cell_type": "code",
   "execution_count": 17,
   "id": "f27f1d64-afdf-4ceb-81e9-7baebdbb412b",
   "metadata": {},
   "outputs": [
    {
     "data": {
      "text/html": [
       "<div>\n",
       "<style scoped>\n",
       "    .dataframe tbody tr th:only-of-type {\n",
       "        vertical-align: middle;\n",
       "    }\n",
       "\n",
       "    .dataframe tbody tr th {\n",
       "        vertical-align: top;\n",
       "    }\n",
       "\n",
       "    .dataframe thead th {\n",
       "        text-align: right;\n",
       "    }\n",
       "</style>\n",
       "<table border=\"1\" class=\"dataframe\">\n",
       "  <thead>\n",
       "    <tr style=\"text-align: right;\">\n",
       "      <th></th>\n",
       "      <th>Date</th>\n",
       "      <th>Weight</th>\n",
       "      <th>scriptedIntensity</th>\n",
       "      <th>RPE</th>\n",
       "      <th>Strain</th>\n",
       "      <th>maxHR</th>\n",
       "      <th>averageHR</th>\n",
       "      <th>kCal_Out</th>\n",
       "      <th>kCal_In</th>\n",
       "      <th>Protein</th>\n",
       "      <th>...</th>\n",
       "      <th>respitoryRate</th>\n",
       "      <th>iceTub</th>\n",
       "      <th>redLight</th>\n",
       "      <th>Speed</th>\n",
       "      <th>Strength</th>\n",
       "      <th>Mental</th>\n",
       "      <th>Soreness</th>\n",
       "      <th>Overall</th>\n",
       "      <th>Notes</th>\n",
       "      <th>Alcohol</th>\n",
       "    </tr>\n",
       "  </thead>\n",
       "  <tbody>\n",
       "    <tr>\n",
       "      <th>0</th>\n",
       "      <td>Tuesday, March 1, 2022</td>\n",
       "      <td>227.0</td>\n",
       "      <td>Medium</td>\n",
       "      <td>6.0</td>\n",
       "      <td>9.4</td>\n",
       "      <td>173.0</td>\n",
       "      <td>132.0</td>\n",
       "      <td>2389.0</td>\n",
       "      <td>3819.8</td>\n",
       "      <td>285.7</td>\n",
       "      <td>...</td>\n",
       "      <td>13.5</td>\n",
       "      <td>True</td>\n",
       "      <td>True</td>\n",
       "      <td>8.0</td>\n",
       "      <td>9.0</td>\n",
       "      <td>10.0</td>\n",
       "      <td>2.0</td>\n",
       "      <td>8.0</td>\n",
       "      <td>NaN</td>\n",
       "      <td>False</td>\n",
       "    </tr>\n",
       "    <tr>\n",
       "      <th>1</th>\n",
       "      <td>Wednesday, March 2, 2022</td>\n",
       "      <td>228.0</td>\n",
       "      <td>Light</td>\n",
       "      <td>5.0</td>\n",
       "      <td>7.2</td>\n",
       "      <td>156.0</td>\n",
       "      <td>128.0</td>\n",
       "      <td>2420.0</td>\n",
       "      <td>2849.6</td>\n",
       "      <td>223.0</td>\n",
       "      <td>...</td>\n",
       "      <td>13.4</td>\n",
       "      <td>True</td>\n",
       "      <td>False</td>\n",
       "      <td>7.0</td>\n",
       "      <td>9.0</td>\n",
       "      <td>8.0</td>\n",
       "      <td>4.0</td>\n",
       "      <td>7.0</td>\n",
       "      <td>NaN</td>\n",
       "      <td>False</td>\n",
       "    </tr>\n",
       "  </tbody>\n",
       "</table>\n",
       "<p>2 rows × 45 columns</p>\n",
       "</div>"
      ],
      "text/plain": [
       "                       Date  Weight scriptedIntensity  RPE  Strain  maxHR  \\\n",
       "0    Tuesday, March 1, 2022   227.0            Medium  6.0     9.4  173.0   \n",
       "1  Wednesday, March 2, 2022   228.0             Light  5.0     7.2  156.0   \n",
       "\n",
       "   averageHR  kCal_Out  kCal_In  Protein  ...  respitoryRate  iceTub  \\\n",
       "0      132.0    2389.0   3819.8    285.7  ...           13.5    True   \n",
       "1      128.0    2420.0   2849.6    223.0  ...           13.4    True   \n",
       "\n",
       "   redLight  Speed  Strength  Mental  Soreness  Overall  Notes  Alcohol  \n",
       "0      True    8.0       9.0    10.0       2.0      8.0    NaN    False  \n",
       "1     False    7.0       9.0     8.0       4.0      7.0    NaN    False  \n",
       "\n",
       "[2 rows x 45 columns]"
      ]
     },
     "execution_count": 17,
     "metadata": {},
     "output_type": "execute_result"
    }
   ],
   "source": [
    "# I want to see how dataset looks like but not whole, only first 2 rows. I make this to get some basic image of the dataset.\n",
    "daily_performance_dataset.head(2)"
   ]
  },
  {
   "cell_type": "code",
   "execution_count": 19,
   "id": "2d94dc4a-2631-4426-9d9d-7d7de82425f2",
   "metadata": {
    "scrolled": true
   },
   "outputs": [
    {
     "data": {
      "text/plain": [
       "Date                      6\n",
       "Weight                   15\n",
       "scriptedIntensity         6\n",
       "RPE                      55\n",
       "Strain                   21\n",
       "maxHR                    29\n",
       "averageHR                29\n",
       "kCal_Out                 40\n",
       "kCal_In                  99\n",
       "Protein                 101\n",
       "Carbs                   100\n",
       "Fats                    102\n",
       "saturatedFat            101\n",
       "Cholesterol             101\n",
       "Sodium                  102\n",
       "Potassium               104\n",
       "Sugar                   104\n",
       "Vitamin_A               104\n",
       "Vitamin_C               105\n",
       "Calcium                 107\n",
       "Iron                    108\n",
       "Creatine                  6\n",
       "Fish Oil                  6\n",
       "Vitamin_D                 6\n",
       "135ozWater                6\n",
       "totalSleep               65\n",
       "sleepOnset               66\n",
       "sleepEnd                 66\n",
       "In_bed_duration          66\n",
       "Light_sleep_duration     66\n",
       "Deep_SWS_duration        66\n",
       "REM_Duration             66\n",
       "awakeDuration            68\n",
       "HRV                      54\n",
       "restingHR                52\n",
       "respitoryRate            48\n",
       "iceTub                    0\n",
       "redLight                  0\n",
       "Speed                   101\n",
       "Strength                101\n",
       "Mental                    7\n",
       "Soreness                  7\n",
       "Overall                   7\n",
       "Notes                   329\n",
       "Alcohol                   0\n",
       "dtype: int64"
      ]
     },
     "execution_count": 19,
     "metadata": {},
     "output_type": "execute_result"
    }
   ],
   "source": [
    "# Check if the dataset has some null or missing values\n",
    "daily_performance_dataset.isna().sum()"
   ]
  },
  {
   "cell_type": "code",
   "execution_count": 30,
   "id": "ea33d59c-6f35-46c1-a115-320e338d18f3",
   "metadata": {
    "scrolled": true
   },
   "outputs": [
    {
     "data": {
      "text/plain": [
       "Date                     object\n",
       "Weight                  float64\n",
       "scriptedIntensity        object\n",
       "RPE                     float64\n",
       "Strain                  float64\n",
       "maxHR                   float64\n",
       "averageHR               float64\n",
       "kCal_Out                float64\n",
       "kCal_In                 float64\n",
       "Protein                 float64\n",
       "Carbs                   float64\n",
       "Fats                    float64\n",
       "saturatedFat            float64\n",
       "Cholesterol             float64\n",
       "Sodium                  float64\n",
       "Potassium               float64\n",
       "Sugar                   float64\n",
       "Vitamin_A               float64\n",
       "Vitamin_C               float64\n",
       "Calcium                 float64\n",
       "Iron                    float64\n",
       "Creatine                 object\n",
       "Fish Oil                 object\n",
       "Vitamin_D                object\n",
       "135ozWater               object\n",
       "totalSleep              float64\n",
       "sleepOnset               object\n",
       "sleepEnd                 object\n",
       "In_bed_duration         float64\n",
       "Light_sleep_duration    float64\n",
       "Deep_SWS_duration       float64\n",
       "REM_Duration            float64\n",
       "awakeDuration           float64\n",
       "HRV                     float64\n",
       "restingHR               float64\n",
       "respitoryRate            object\n",
       "iceTub                     bool\n",
       "redLight                   bool\n",
       "Speed                   float64\n",
       "Strength                float64\n",
       "Mental                  float64\n",
       "Soreness                float64\n",
       "Overall                 float64\n",
       "Notes                    object\n",
       "Alcohol                    bool\n",
       "dtype: object"
      ]
     },
     "execution_count": 30,
     "metadata": {},
     "output_type": "execute_result"
    }
   ],
   "source": [
    "# as we see there is a lot of missing values. I can't simple drop null values, \n",
    "# because it is a lot and i will lost a lot of information with this action.\n",
    "# Now i want to check type of the columns. That will help me to take decision how to fill this missing information \n",
    "daily_performance_dataset.dtypes"
   ]
  },
  {
   "cell_type": "code",
   "execution_count": 68,
   "id": "5cb8c7c9-3567-4492-ba0a-a3156b4fa6ed",
   "metadata": {},
   "outputs": [
    {
     "data": {
      "image/png": "[encoded data removed]",
      "text/plain": [
       "<Figure size 640x480 with 1 Axes>"
      ]
     },
     "metadata": {},
     "output_type": "display_data"
    }
   ],
   "source": [
    "# plot a null values in heatmap to see where are they. \n",
    "sns.heatmap(daily_performance_dataset.isnull(), cbar=False)\n",
    "plt.title(\"Heatmap of Missing Values\")\n",
    "plt.show()"
   ]
  },
  {
   "cell_type": "code",
   "execution_count": null,
   "id": "f61cbaac-bfff-4a46-8bde-dd7f4551fe90",
   "metadata": {},
   "outputs": [],
   "source": []
  }
 ],
 "metadata": {
  "kernelspec": {
   "display_name": "Python 3 (ipykernel)",
   "language": "python",
   "name": "python3"
  },
  "language_info": {
   "codemirror_mode": {
    "name": "ipython",
    "version": 3
   },
   "file_extension": ".py",
   "mimetype": "text/x-python",
   "name": "python",
   "nbconvert_exporter": "python",
   "pygments_lexer": "ipython3",
   "version": "3.12.4"
  }
 },
 "nbformat": 4,
 "nbformat_minor": 5
}
